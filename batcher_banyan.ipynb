{
 "cells": [
  {
   "cell_type": "markdown",
   "metadata": {},
   "source": [
    "# Batcher-Banyan network"
   ]
  },
  {
   "cell_type": "code",
   "execution_count": 2,
   "metadata": {},
   "outputs": [],
   "source": [
    "import numpy as np"
   ]
  },
  {
   "cell_type": "markdown",
   "metadata": {},
   "source": [
    "### batcher networkの実装"
   ]
  },
  {
   "cell_type": "code",
   "execution_count": 3,
   "metadata": {},
   "outputs": [],
   "source": [
    "#2*2 bitnic sorter\n",
    "#２つを比べて大きい方を下にする\n",
    "def sorter_base(x):\n",
    "    if x[0] >= x[1]:\n",
    "        return x[::-1]\n",
    "    else:\n",
    "        return x"
   ]
  },
  {
   "cell_type": "code",
   "execution_count": 4,
   "metadata": {},
   "outputs": [],
   "source": [
    "#n*n bitnic sorter\n",
    "# n*n bitnic sorterは一回り小さいbitnic sorterの組み合わせで表現できるので，　任意の大きさのbitnic sorterは再帰的に表現することができる．\n",
    "def sorter(x):\n",
    "    n = int(len(x))\n",
    "    n2 = int(n/2)\n",
    "    if n == 2:\n",
    "        return sorter_base(x) #2*2が最小単位\n",
    "    else:\n",
    "        x1 = np.zeros(n)\n",
    "        #まず2*2でsort\n",
    "        for i in range(n2): \n",
    "            x1[2*i:2*i+2] = sorter_base(x[2*i:2*i+2]) \n",
    "        \n",
    "        x2 = np.zeros(n)\n",
    "        #一回り小さいsorterに入力するために並び替える\n",
    "        for i in range(n):\n",
    "            if i<n2 and i%2 == 1:\n",
    "                x2[i] = x1[n2+i-1]\n",
    "            elif i>=n2 and i%2 == 0:\n",
    "                x2[i] = x1[i-n2+1]\n",
    "            else:\n",
    "                x2[i] = x1[i]\n",
    "        \n",
    "        x3 = np.zeros(n)\n",
    "        #上半分と下半分をそれぞれ一回り小さいbitnic sorterに入力する(再帰)\n",
    "        x3[:n2] = sorter(x2[:n2])\n",
    "        x3[n2:] = sorter(x2[n2:])\n",
    "        return x3"
   ]
  },
  {
   "cell_type": "code",
   "execution_count": 5,
   "metadata": {},
   "outputs": [],
   "source": [
    "#n batcher network\n",
    "# batcher networkは2*2 bitnic sorterから初めて徐々に大きいsorterへ入力することを繰り返して実現される．\n",
    "# よって入力数に等しいbitnic sorterがくるまで，　sorterに入力→並び替え→より大きいsorterに入力．．．を繰り返す．\n",
    "# 任意のn*n bitnic sorterは上で定義されているのでそれを利用する．\n",
    "# k: sorterの入力次元数\n",
    "#p: sorterの数=n/k\n",
    "\n",
    "def batcher(x):\n",
    "    data = x\n",
    "    n = len(x)\n",
    "    k = 2 \n",
    "    #bitnic sorterの大きさが入力と一致するまで繰り返す．\n",
    "    while k <= n:\n",
    "        p = int(n/k) \n",
    "        \n",
    "        data1 = np.zeros(n)\n",
    "        #まず入力を適切に並び替える．\n",
    "        for i in range(p): \n",
    "            for j in range(k):\n",
    "                if j<k/2:\n",
    "                    data1[2*j+i*k] = data[j+i*k]\n",
    "                else:\n",
    "                    data1[2*j-k+1+i*k] = data[j+i*k]                \n",
    "        \n",
    "        data2 = np.zeros(n)\n",
    "        #並び替えたものをそれぞれsorterに入力する．\n",
    "        for i in range(p):\n",
    "            s = sorter(data1[k*i:k*i+k])\n",
    "            if i%2 == 1:\n",
    "                s = s[::-1] #奇数番目のものは出力を反転させる\n",
    "            data2[k*i:k*i+k] = s\n",
    "            \n",
    "        k = k*2\n",
    "        data = data2\n",
    "        \n",
    "    return data"
   ]
  },
  {
   "cell_type": "markdown",
   "metadata": {},
   "source": [
    "### banyan networkの実装"
   ]
  },
  {
   "cell_type": "code",
   "execution_count": 6,
   "metadata": {},
   "outputs": [],
   "source": [
    "#2bit banyan sorter\n",
    "# Noneがきたらスルー\n",
    "# n_time: 判定に使うビットが先頭から何番目であるかを指定\n",
    "# n_time番目のbitが0なら上，　1なら下に出力\n",
    "\n",
    "def banyan_base(x,n_time):\n",
    "    if x[0] is not None:\n",
    "        if x[0][n_time] == '1':\n",
    "            return x[::-1]\n",
    "    elif x[1] is not None:\n",
    "        if x[1][n_time] == '0':\n",
    "            return x[::-1]\n",
    "    \n",
    "    return x"
   ]
  },
  {
   "cell_type": "code",
   "execution_count": 7,
   "metadata": {},
   "outputs": [],
   "source": [
    "#n入力 banyan network\n",
    "# 2bit banyan sorterを組み合わせることで実現\n",
    "#内部の結び方はn*n bitnic sorterと同様になるのでこちらも再帰的に表現できる．\n",
    "\n",
    "def banyan(x,n_time):\n",
    "    n = int(len(x))\n",
    "    n2 = int(n/2)\n",
    "    \n",
    "    if n == 2: #2*2が最小単位\n",
    "        return banyan_base(x,n_time)\n",
    "    else:\n",
    "        x1 = [''] * n\n",
    "        #まず2*2でsort\n",
    "        for i in range(n2): \n",
    "            x1[2*i:2*i+2] = banyan_base(x[2*i:2*i+2],n_time)\n",
    "        \n",
    "        x2 = [''] * n\n",
    "        #一回り小さいsorterに入力するために並び替える\n",
    "        for i in range(n): \n",
    "            if i<n2 and i%2 == 1:\n",
    "                x2[i] = x1[n2+i-1]\n",
    "            elif i>=n2 and i%2 == 0:\n",
    "                x2[i] = x1[i-n2+1]\n",
    "            else:\n",
    "                x2[i] = x1[i]\n",
    "        \n",
    "        x3 = [''] * n \n",
    "        #上半分と下半分をそれぞれ一回り小さいbitnic sorterに入力する(再帰)\n",
    "        x3[:n2] = banyan(x2[:n2],n_time+1) #判定に使うbitを何番目にするかについて，　値を1増やす(n_time+1)\n",
    "        x3[n2:] = banyan(x2[n2:],n_time+1)\n",
    "        return x3\n",
    "    "
   ]
  },
  {
   "cell_type": "markdown",
   "metadata": {},
   "source": [
    "### 実行プログラム "
   ]
  },
  {
   "cell_type": "code",
   "execution_count": 9,
   "metadata": {},
   "outputs": [
    {
     "name": "stdout",
     "output_type": "stream",
     "text": [
      "---input--- \n",
      " [  13 1000   29    6 1000   11 1000    8   25 1000   15 1000    7   28\n",
      "   19 1000 1000   31 1000 1000   27   18    4    1 1000 1000    3   21\n",
      "   16 1000    9 1000]\n",
      "---x size--- \n",
      " 32\n",
      "---batcher output--- \n",
      " [   1.    3.    4.    6.    7.    8.    9.   11.   13.   15.   16.   18.\n",
      "   19.   21.   25.   27.   28.   29.   31. 1000. 1000. 1000. 1000. 1000.\n",
      " 1000. 1000. 1000. 1000. 1000. 1000. 1000. 1000.]\n",
      "---banyan input--- \n",
      " ['00001', '11100', '00011', '11101', '00100', '11111', '00110', None, '00111', None, '01000', None, '01001', None, '01011', None, '01101', None, '01111', None, '10000', None, '10010', None, '10011', None, '10101', None, '11001', None, '11011', None]\n",
      "---banyan output--- \n",
      " [None, '00001', None, '00011', '00100', None, '00110', '00111', '01000', '01001', None, '01011', None, '01101', None, '01111', '10000', None, '10010', '10011', None, '10101', None, None, None, '11001', None, '11011', '11100', '11101', None, '11111']\n",
      "---final output--- \n",
      " [None, 1, None, 3, 4, None, 6, 7, 8, 9, None, 11, None, 13, None, 15, 16, None, 18, 19, None, 21, None, None, None, 25, None, 27, 28, 29, None, 31]\n"
     ]
    }
   ],
   "source": [
    "#入力数列\n",
    "#x = np.array([1,1000,4,6,1000,0,1000,7]) #8要素\n",
    "#x = np.array([13,1000,4,6,1000,11,1000,8,1,1000,15,1000,7,3,9,1000]) #16要素\n",
    "x = np.array([13,1000,29,6,1000,11,1000,8,25,1000,15,1000,7,28,19,1000,\n",
    "             1000,31,1000,1000,27,18,4,1,1000,1000,3,21,16,1000,9,1000]) #32要素\n",
    "\n",
    "print('---input--- \\n', x)\n",
    "n = int(len(x))\n",
    "n_time = int(np.log2(n))\n",
    "print('---x size--- \\n', n)\n",
    "\n",
    "# batcher network\n",
    "x1 = batcher(x)\n",
    "print('---batcher output--- \\n', x1)\n",
    "\n",
    "# batcher networkの出力を banyan network　に入力するために並び替える\n",
    "x2 = np.zeros(n)\n",
    "for i in range(n):\n",
    "    if i<n/2:\n",
    "        x2[2*i] = x1[i]\n",
    "    else:\n",
    "        x2[2*i-n+1] = x1[i]\n",
    "\n",
    "# 10進数から2進数表現に変更\n",
    "x3 = [None]*n\n",
    "for i in range(n):\n",
    "    if x2[i] < n:\n",
    "        x3[i] = format(int(x2[i]), '0{}b'.format(n_time)) #n bitの2進数表現\n",
    "print('---banyan input--- \\n', x3)\n",
    "\n",
    "#banyan network\n",
    "x4 = banyan(x3,0)\n",
    "print('---banyan output--- \\n', x4)\n",
    "\n",
    "# 確認のためbanyan networkの出力を10進数に変更\n",
    "x5 = [None] * n\n",
    "for i in range(n):\n",
    "    if x4[i] != None:\n",
    "        x5[i] = int(x4[i], 2)\n",
    "print('---final output--- \\n', x5)"
   ]
  },
  {
   "cell_type": "code",
   "execution_count": null,
   "metadata": {},
   "outputs": [],
   "source": []
  }
 ],
 "metadata": {
  "kernelspec": {
   "display_name": "Python 3",
   "language": "python",
   "name": "python3"
  },
  "language_info": {
   "codemirror_mode": {
    "name": "ipython",
    "version": 3
   },
   "file_extension": ".py",
   "mimetype": "text/x-python",
   "name": "python",
   "nbconvert_exporter": "python",
   "pygments_lexer": "ipython3",
   "version": "3.6.5"
  }
 },
 "nbformat": 4,
 "nbformat_minor": 2
}
